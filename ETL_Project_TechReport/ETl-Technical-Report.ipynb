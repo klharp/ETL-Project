{
 "cells": [
  {
   "cell_type": "markdown",
   "metadata": {},
   "source": [
    "# ETL Project Technical Report"
   ]
  },
  {
   "cell_type": "markdown",
   "metadata": {},
   "source": [
    "## Team 5: Emerson Williams-Molett, Kerry Harp, Yonis Hassan"
   ]
  },
  {
   "cell_type": "markdown",
   "metadata": {},
   "source": [
    "_______________________________________________________________________________"
   ]
  },
  {
   "cell_type": "markdown",
   "metadata": {},
   "source": [
    "\n",
    "<img src = \"images/annual-working-hours-per-worker.png\" width=500 align=\"left\"> "
   ]
  },
  {
   "cell_type": "markdown",
   "metadata": {},
   "source": [
    "### Data Extraction\n",
    "\n",
    "#### Sources:\n",
    "\n",
    "Data Set 1:[World Happiness Report](https://worldhappiness.report/ed/2021/#appendices-and-data) (CSV file)\n",
    "\n",
    "Data Set 2: Our World in Data [Are we working more than ever](https://ourworldindata.org/working-more-than-ever?) (CSV file)\n",
    "\n",
    "\n",
    "\n",
    "#### Process:\n",
    "\n",
    "Extract CSVs into DataFrames\n",
    "    <ul>\n",
    "    <li>World Happiness CSV has 11 items in the header (Country Name, Year, Life Ladder, Log GDP per capita, Social support, Healthy life expectancy at birth, Freedom to make life choices, generosity, Perceptions of corruption, Positive affect, Negative affect)</li>\n",
    "   <li>Our World CSV has 4 items in the header (Entity, Code, Year, Average annual working hours per worker)</li>\n",
    "    </ul>"
   ]
  },
  {
   "cell_type": "markdown",
   "metadata": {},
   "source": [
    "_______________________________________________________________________________"
   ]
  },
  {
   "cell_type": "markdown",
   "metadata": {},
   "source": [
    "### Data Cleanup\n",
    "\n",
    "Happiness DataFrame\n",
    "    <ul>\n",
    "    <li>Kept the wanted columns (Country Name, Year, Life Ladder)</li>\n",
    "   <li>Our World CSV has 4 items in the header (Entity, Code, Year, Average annual working hours per worker)</li>\n",
    "    <li>Renamed column names.</li>\n",
    "    </ul>\n",
    "\n",
    "Work Hours DataFrame\n",
    "    <ul>\n",
    "    <li>Kept the wanted columns (Entity, Year, Average annual working hours per worker)</li>\n",
    "   <li>Renamed column names</li>\n",
    "    <li>Deleted all rows with the year < 2005 </li>\n",
    "    <li>Remove decimal places from the work hours.</li>\n",
    "    </ul>\n"
   ]
  },
  {
   "cell_type": "markdown",
   "metadata": {},
   "source": [
    "_______________________________________________________________________________"
   ]
  },
  {
   "cell_type": "markdown",
   "metadata": {},
   "source": [
    "### Data Analysis\n",
    "\n",
    "Used Pandas to load the two dataframes into SQL database named ETL_5 (tables: world_happiness and annual_work_hours).\n",
    "\n",
    "Confirm data has been added\n",
    "\n",
    "Query the database"
   ]
  },
  {
   "cell_type": "markdown",
   "metadata": {},
   "source": [
    "_______________________________________________________________________________"
   ]
  }
 ],
 "metadata": {
  "kernelspec": {
   "display_name": "Python 3",
   "language": "python",
   "name": "python3"
  },
  "language_info": {
   "codemirror_mode": {
    "name": "ipython",
    "version": 3
   },
   "file_extension": ".py",
   "mimetype": "text/x-python",
   "name": "python",
   "nbconvert_exporter": "python",
   "pygments_lexer": "ipython3",
   "version": "3.6.10"
  }
 },
 "nbformat": 4,
 "nbformat_minor": 4
}
